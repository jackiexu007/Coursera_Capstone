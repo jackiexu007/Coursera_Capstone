{
 "cells": [
  {
   "cell_type": "markdown",
   "metadata": {
    "collapsed": true
   },
   "source": [
    "# The Battle of Neighborhoods - Week 1"
   ]
  },
  {
   "cell_type": "markdown",
   "metadata": {},
   "source": [
    "## Introduction: Business Problem"
   ]
  },
  {
   "cell_type": "markdown",
   "metadata": {},
   "source": [
    "### Problem Background and Description\n",
    "\n",
    "According to 2016 census by Statistics Canada, Vancouver is one of the most ethnical and linguistical cities in Canada. With the immigration wave continuing, the need for finding and enjoying diverse cuisines is on the rise. This report explores the optimal locations in the city of Vancouver for opening or investing a Japanese restaurant. We will define the specific conditions for an optimal location in the following Data Description section.\n",
    "\n",
    "### Target Audience\n",
    "\n",
    "Stakeholders who would like to start or expand a Japanese restaurant will have interest in this report. This analysis will recommend them optimal neighborhoods in Vancouver to open a restaurant, in order to produce more business profit. Besides, this report will help people to find neighborhoods with high Japanese restaurants density."
   ]
  },
  {
   "cell_type": "markdown",
   "metadata": {},
   "source": [
    "## Data Description"
   ]
  },
  {
   "cell_type": "markdown",
   "metadata": {},
   "source": [
    "We will use the following data to analysis the city of Vancouver\n",
    "\n",
    "* **Neighborhood candidates** \n",
    "\n",
    "We first use the coordinates of the city center, to generate a group of cells, covering most of the Vancouver city (a circular area with radius approx. 5 kilometers centred around the city center). These cells are circles with radius 250 meters, named as neighborhood candidates.\n",
    "\n",
    "* **Foursquare API**\n",
    "\n",
    "We then utilize Foursquare API to explore neighborhoods data. In order to use the Foursquare location data, we need to get the latitude and longtitude coordinates of each neighborhood. Once we have the latitude and longtitude data, we can leverage Foursquare API to explore venues information for each neighborhood in the city of Vancouver. Some features extracted include 'Venue', 'Venue Category', 'Venue Latitude', 'Venue Longitude', etc. We are particularly interested in the venues within Japanese restaurant category.\n",
    "\n",
    "* **Analysis**\n",
    "\n",
    "We explore nearby venues of each neighborhood centers and focus on Japanese restaurants. We care about two properties of the neighborhood information: the number of Japanese restaurants in the area and the closest distance from the neighborhood center to any Japanese restaurant. Finally, we will use KMeans to cluster and recommend locations with no more than one Japanese restaurant in neiborhood area (approx. 250 meters) and no Japanese restaurant within 400 meters' distance from the neighborhood centers. Besides, these locations are within 3 kilometers' distance from the city center."
   ]
  },
  {
   "cell_type": "code",
   "execution_count": null,
   "metadata": {},
   "outputs": [],
   "source": []
  }
 ],
 "metadata": {
  "kernelspec": {
   "display_name": "Python 2",
   "language": "python",
   "name": "python2"
  },
  "language_info": {
   "codemirror_mode": {
    "name": "ipython",
    "version": 2
   },
   "file_extension": ".py",
   "mimetype": "text/x-python",
   "name": "python",
   "nbconvert_exporter": "python",
   "pygments_lexer": "ipython2",
   "version": "2.7.17"
  }
 },
 "nbformat": 4,
 "nbformat_minor": 1
}
